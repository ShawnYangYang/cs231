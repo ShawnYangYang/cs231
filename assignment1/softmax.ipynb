{
 "cells": [
  {
   "cell_type": "markdown",
   "metadata": {},
   "source": [
    "# Softmax exercise\n",
    "\n",
    "*Complete and hand in this completed worksheet (including its outputs and any supporting code outside of the worksheet) with your assignment submission. For more details see the [assignments page](http://vision.stanford.edu/teaching/cs231n/assignments.html) on the course website.*\n",
    "\n",
    "This exercise is analogous to the SVM exercise. You will:\n",
    "\n",
    "- implement a fully-vectorized **loss function** for the Softmax classifier\n",
    "- implement the fully-vectorized expression for its **analytic gradient**\n",
    "- **check your implementation** with numerical gradient\n",
    "- use a validation set to **tune the learning rate and regularization** strength\n",
    "- **optimize** the loss function with **SGD**\n",
    "- **visualize** the final learned weights\n"
   ]
  },
  {
   "cell_type": "code",
   "execution_count": 1,
   "metadata": {
    "collapsed": false
   },
   "outputs": [],
   "source": [
    "import random\n",
    "import numpy as np\n",
    "from cs231n.data_utils import load_CIFAR10\n",
    "import matplotlib.pyplot as plt\n",
    "%matplotlib inline\n",
    "plt.rcParams['figure.figsize'] = (10.0, 8.0) # set default size of plots\n",
    "plt.rcParams['image.interpolation'] = 'nearest'\n",
    "plt.rcParams['image.cmap'] = 'gray'\n",
    "\n",
    "# for auto-reloading extenrnal modules\n",
    "# see http://stackoverflow.com/questions/1907993/autoreload-of-modules-in-ipython\n",
    "%load_ext autoreload\n",
    "%autoreload 2"
   ]
  },
  {
   "cell_type": "code",
   "execution_count": 2,
   "metadata": {
    "collapsed": false
   },
   "outputs": [
    {
     "name": "stdout",
     "output_type": "stream",
     "text": [
      "Train data shape:  (49000L, 3073L)\n",
      "Train labels shape:  (49000L,)\n",
      "Validation data shape:  (1000L, 3073L)\n",
      "Validation labels shape:  (1000L,)\n",
      "Test data shape:  (1000L, 3073L)\n",
      "Test labels shape:  (1000L,)\n",
      "dev data shape:  (500L, 3073L)\n",
      "dev labels shape:  (500L,)\n"
     ]
    }
   ],
   "source": [
    "def get_CIFAR10_data(num_training=49000, num_validation=1000, num_test=1000, num_dev=500):\n",
    "  \"\"\"\n",
    "  Load the CIFAR-10 dataset from disk and perform preprocessing to prepare\n",
    "  it for the linear classifier. These are the same steps as we used for the\n",
    "  SVM, but condensed to a single function.  \n",
    "  \"\"\"\n",
    "  # Load the raw CIFAR-10 data\n",
    "  cifar10_dir = 'cs231n/datasets/cifar-10-batches-py'\n",
    "  X_train, y_train, X_test, y_test = load_CIFAR10(cifar10_dir)\n",
    "  \n",
    "  # subsample the data\n",
    "  mask = range(num_training, num_training + num_validation)\n",
    "  X_val = X_train[mask]\n",
    "  y_val = y_train[mask]\n",
    "  mask = range(num_training)\n",
    "  X_train = X_train[mask]\n",
    "  y_train = y_train[mask]\n",
    "  mask = range(num_test)\n",
    "  X_test = X_test[mask]\n",
    "  y_test = y_test[mask]\n",
    "  mask = np.random.choice(num_training, num_dev, replace=False)\n",
    "  X_dev = X_train[mask]\n",
    "  y_dev = y_train[mask]\n",
    "  \n",
    "  # Preprocessing: reshape the image data into rows\n",
    "  X_train = np.reshape(X_train, (X_train.shape[0], -1))\n",
    "  X_val = np.reshape(X_val, (X_val.shape[0], -1))\n",
    "  X_test = np.reshape(X_test, (X_test.shape[0], -1))\n",
    "  X_dev = np.reshape(X_dev, (X_dev.shape[0], -1))\n",
    "  \n",
    "  # Normalize the data: subtract the mean image\n",
    "  mean_image = np.mean(X_train, axis = 0)\n",
    "  X_train -= mean_image\n",
    "  X_val -= mean_image\n",
    "  X_test -= mean_image\n",
    "  X_dev -= mean_image\n",
    "  \n",
    "  # add bias dimension and transform into columns\n",
    "  X_train = np.hstack([X_train, np.ones((X_train.shape[0], 1))])\n",
    "  X_val = np.hstack([X_val, np.ones((X_val.shape[0], 1))])\n",
    "  X_test = np.hstack([X_test, np.ones((X_test.shape[0], 1))])\n",
    "  X_dev = np.hstack([X_dev, np.ones((X_dev.shape[0], 1))])\n",
    "  \n",
    "  return X_train, y_train, X_val, y_val, X_test, y_test, X_dev, y_dev\n",
    "\n",
    "\n",
    "# Invoke the above function to get our data.\n",
    "X_train, y_train, X_val, y_val, X_test, y_test, X_dev, y_dev = get_CIFAR10_data()\n",
    "print 'Train data shape: ', X_train.shape\n",
    "print 'Train labels shape: ', y_train.shape\n",
    "print 'Validation data shape: ', X_val.shape\n",
    "print 'Validation labels shape: ', y_val.shape\n",
    "print 'Test data shape: ', X_test.shape\n",
    "print 'Test labels shape: ', y_test.shape\n",
    "print 'dev data shape: ', X_dev.shape\n",
    "print 'dev labels shape: ', y_dev.shape"
   ]
  },
  {
   "cell_type": "markdown",
   "metadata": {},
   "source": [
    "## Softmax Classifier\n",
    "\n",
    "Your code for this section will all be written inside **cs231n/classifiers/softmax.py**. \n"
   ]
  },
  {
   "cell_type": "code",
   "execution_count": 3,
   "metadata": {
    "collapsed": false
   },
   "outputs": [
    {
     "name": "stdout",
     "output_type": "stream",
     "text": [
      "loss: 2.346343\n",
      "sanity check: 2.302585\n"
     ]
    }
   ],
   "source": [
    "# First implement the naive softmax loss function with nested loops.\n",
    "# Open the file cs231n/classifiers/softmax.py and implement the\n",
    "# softmax_loss_naive function.\n",
    "\n",
    "from cs231n.classifiers.softmax import softmax_loss_naive\n",
    "import time\n",
    "\n",
    "# Generate a random softmax weight matrix and use it to compute the loss.\n",
    "W = np.random.randn(3073, 10) * 0.0001\n",
    "loss, grad = softmax_loss_naive(W, X_dev, y_dev, 0.0)\n",
    "\n",
    "# As a rough sanity check, our loss should be something close to -log(0.1).\n",
    "print 'loss: %f' % loss\n",
    "print 'sanity check: %f' % (-np.log(0.1))"
   ]
  },
  {
   "cell_type": "markdown",
   "metadata": {},
   "source": [
    "## Inline Question 1:\n",
    "Why do we expect our loss to be close to -log(0.1)? Explain briefly.**\n",
    "\n",
    "**Your answer:** Because the W is close to 0, and the probability of each category is 0.1, hence the loss for one training instance is -np.log(0.1). After averaging and adding the regularization, the loss is still close to -np.log(0.1).\n"
   ]
  },
  {
   "cell_type": "code",
   "execution_count": 4,
   "metadata": {
    "collapsed": false
   },
   "outputs": [
    {
     "name": "stdout",
     "output_type": "stream",
     "text": [
      "numerical: 1.237342 analytic: 1.237342, relative error: 1.879938e-09\n",
      "numerical: 2.985605 analytic: 2.985604, relative error: 2.262897e-09\n",
      "numerical: -2.404607 analytic: -2.404607, relative error: 4.383459e-10\n",
      "numerical: -2.783822 analytic: -2.783822, relative error: 4.541427e-09\n",
      "numerical: -2.999242 analytic: -2.999242, relative error: 1.064032e-08\n",
      "numerical: -4.258505 analytic: -4.258505, relative error: 8.612482e-09\n",
      "numerical: -1.328671 analytic: -1.328671, relative error: 2.086636e-08\n",
      "numerical: 2.275349 analytic: 2.275349, relative error: 6.135836e-09\n",
      "numerical: 1.578123 analytic: 1.578123, relative error: 3.844232e-09\n",
      "numerical: -2.648035 analytic: -2.648035, relative error: 9.043144e-09\n",
      "numerical: -2.694579 analytic: -2.694579, relative error: 5.868712e-09\n",
      "numerical: 2.083555 analytic: 2.083554, relative error: 8.080221e-09\n",
      "numerical: 1.119180 analytic: 1.119180, relative error: 3.406934e-08\n",
      "numerical: 0.841489 analytic: 0.841489, relative error: 2.813236e-08\n",
      "numerical: 0.055298 analytic: 0.055298, relative error: 2.787695e-07\n",
      "numerical: -4.439053 analytic: -4.439053, relative error: 5.457766e-09\n",
      "numerical: -1.260549 analytic: -1.260549, relative error: 5.058566e-09\n",
      "numerical: -0.130471 analytic: -0.130471, relative error: 2.914222e-08\n",
      "numerical: 1.581466 analytic: 1.581466, relative error: 1.200592e-08\n",
      "numerical: -0.266207 analytic: -0.266207, relative error: 4.326657e-08\n"
     ]
    }
   ],
   "source": [
    "# Complete the implementation of softmax_loss_naive and implement a (naive)\n",
    "# version of the gradient that uses nested loops.\n",
    "loss, grad = softmax_loss_naive(W, X_dev, y_dev, 0.0)\n",
    "\n",
    "# As we did for the SVM, use numeric gradient checking as a debugging tool.\n",
    "# The numeric gradient should be close to the analytic gradient.\n",
    "from cs231n.gradient_check import grad_check_sparse\n",
    "f = lambda w: softmax_loss_naive(w, X_dev, y_dev, 0.0)[0]\n",
    "grad_numerical = grad_check_sparse(f, W, grad, 10)\n",
    "\n",
    "# similar to SVM case, do another gradient check with regularization\n",
    "loss, grad = softmax_loss_naive(W, X_dev, y_dev, 1e2)\n",
    "f = lambda w: softmax_loss_naive(w, X_dev, y_dev, 1e2)[0]\n",
    "grad_numerical = grad_check_sparse(f, W, grad, 10)"
   ]
  },
  {
   "cell_type": "code",
   "execution_count": 5,
   "metadata": {
    "collapsed": false
   },
   "outputs": [
    {
     "name": "stdout",
     "output_type": "stream",
     "text": [
      "naive loss: 2.346343e+00 computed in 0.156000s\n",
      "vectorized loss: 2.346343e+00 computed in 0.156000s\n",
      "Loss difference: 0.000000\n",
      "Gradient difference: 0.000000\n"
     ]
    }
   ],
   "source": [
    "# Now that we have a naive implementation of the softmax loss function and its gradient,\n",
    "# implement a vectorized version in softmax_loss_vectorized.\n",
    "# The two versions should compute the same results, but the vectorized version should be\n",
    "# much faster.\n",
    "tic = time.time()\n",
    "loss_naive, grad_naive = softmax_loss_naive(W, X_dev, y_dev, 0.00001)\n",
    "toc = time.time()\n",
    "print 'naive loss: %e computed in %fs' % (loss_naive, toc - tic)\n",
    "\n",
    "from cs231n.classifiers.softmax import softmax_loss_vectorized\n",
    "tic = time.time()\n",
    "loss_vectorized, grad_vectorized = softmax_loss_vectorized(W, X_dev, y_dev, 0.00001)\n",
    "toc = time.time()\n",
    "print 'vectorized loss: %e computed in %fs' % (loss_vectorized, toc - tic)\n",
    "\n",
    "# As we did for the SVM, we use the Frobenius norm to compare the two versions\n",
    "# of the gradient.\n",
    "grad_difference = np.linalg.norm(grad_naive - grad_vectorized, ord='fro')\n",
    "print 'Loss difference: %f' % np.abs(loss_naive - loss_vectorized)\n",
    "print 'Gradient difference: %f' % grad_difference"
   ]
  },
  {
   "cell_type": "code",
   "execution_count": 7,
   "metadata": {
    "collapsed": false
   },
   "outputs": [
    {
     "name": "stderr",
     "output_type": "stream",
     "text": [
      "cs231n\\classifiers\\softmax.py:76: RuntimeWarning: divide by zero encountered in log\n",
      "  loss = np.sum(-np.log(loss))/num_train\n",
      "cs231n\\classifiers\\softmax.py:75: RuntimeWarning: overflow encountered in exp\n",
      "  loss = np.exp(scores[np.arange(0, num_train), y])/np.sum(np.exp(scores), axis=1)\n",
      "cs231n\\classifiers\\softmax.py:75: RuntimeWarning: invalid value encountered in divide\n",
      "  loss = np.exp(scores[np.arange(0, num_train), y])/np.sum(np.exp(scores), axis=1)\n",
      "cs231n\\classifiers\\softmax.py:82: RuntimeWarning: overflow encountered in exp\n",
      "  mask_score = np.exp(scores)/np.sum(np.exp(scores), axis=1).reshape(scores.shape[0],-1)\n",
      "cs231n\\classifiers\\softmax.py:82: RuntimeWarning: invalid value encountered in divide\n",
      "  mask_score = np.exp(scores)/np.sum(np.exp(scores), axis=1).reshape(scores.shape[0],-1)\n"
     ]
    },
    {
     "name": "stdout",
     "output_type": "stream",
     "text": [
      "lr 1.000000e-07 reg 5.000000e+04 train accuracy: 0.327878 val accuracy: 0.337000\n",
      "lr 1.000000e-07 reg 1.115556e+07 train accuracy: 0.229490 val accuracy: 0.225000\n",
      "lr 1.000000e-07 reg 2.226111e+07 train accuracy: 0.099898 val accuracy: 0.105000\n",
      "lr 1.000000e-07 reg 3.336667e+07 train accuracy: 0.099898 val accuracy: 0.105000\n",
      "lr 1.000000e-07 reg 4.447222e+07 train accuracy: 0.099898 val accuracy: 0.105000\n",
      "lr 1.000000e-07 reg 5.557778e+07 train accuracy: 0.099898 val accuracy: 0.105000\n",
      "lr 1.000000e-07 reg 6.668333e+07 train accuracy: 0.099898 val accuracy: 0.105000\n",
      "lr 1.000000e-07 reg 7.778889e+07 train accuracy: 0.099898 val accuracy: 0.105000\n",
      "lr 1.000000e-07 reg 8.889444e+07 train accuracy: 0.099898 val accuracy: 0.105000\n",
      "lr 1.000000e-07 reg 1.000000e+08 train accuracy: 0.099898 val accuracy: 0.105000\n",
      "lr 1.444444e-07 reg 5.000000e+04 train accuracy: 0.327673 val accuracy: 0.338000\n",
      "lr 1.444444e-07 reg 1.115556e+07 train accuracy: 0.162122 val accuracy: 0.157000\n",
      "lr 1.444444e-07 reg 2.226111e+07 train accuracy: 0.099898 val accuracy: 0.105000\n",
      "lr 1.444444e-07 reg 3.336667e+07 train accuracy: 0.099898 val accuracy: 0.105000\n",
      "lr 1.444444e-07 reg 4.447222e+07 train accuracy: 0.099898 val accuracy: 0.105000\n",
      "lr 1.444444e-07 reg 5.557778e+07 train accuracy: 0.099898 val accuracy: 0.105000\n",
      "lr 1.444444e-07 reg 6.668333e+07 train accuracy: 0.099898 val accuracy: 0.105000\n",
      "lr 1.444444e-07 reg 7.778889e+07 train accuracy: 0.099898 val accuracy: 0.105000\n",
      "lr 1.444444e-07 reg 8.889444e+07 train accuracy: 0.099898 val accuracy: 0.105000\n",
      "lr 1.444444e-07 reg 1.000000e+08 train accuracy: 0.099898 val accuracy: 0.105000\n",
      "lr 1.888889e-07 reg 5.000000e+04 train accuracy: 0.330490 val accuracy: 0.342000\n",
      "lr 1.888889e-07 reg 1.115556e+07 train accuracy: 0.099898 val accuracy: 0.105000\n",
      "lr 1.888889e-07 reg 2.226111e+07 train accuracy: 0.099898 val accuracy: 0.105000\n",
      "lr 1.888889e-07 reg 3.336667e+07 train accuracy: 0.099898 val accuracy: 0.105000\n",
      "lr 1.888889e-07 reg 4.447222e+07 train accuracy: 0.099898 val accuracy: 0.105000\n",
      "lr 1.888889e-07 reg 5.557778e+07 train accuracy: 0.099898 val accuracy: 0.105000\n",
      "lr 1.888889e-07 reg 6.668333e+07 train accuracy: 0.099898 val accuracy: 0.105000\n",
      "lr 1.888889e-07 reg 7.778889e+07 train accuracy: 0.099898 val accuracy: 0.105000\n",
      "lr 1.888889e-07 reg 8.889444e+07 train accuracy: 0.099898 val accuracy: 0.105000\n",
      "lr 1.888889e-07 reg 1.000000e+08 train accuracy: 0.099898 val accuracy: 0.105000\n",
      "lr 2.333333e-07 reg 5.000000e+04 train accuracy: 0.323776 val accuracy: 0.339000\n",
      "lr 2.333333e-07 reg 1.115556e+07 train accuracy: 0.099898 val accuracy: 0.105000\n",
      "lr 2.333333e-07 reg 2.226111e+07 train accuracy: 0.099898 val accuracy: 0.105000\n",
      "lr 2.333333e-07 reg 3.336667e+07 train accuracy: 0.099898 val accuracy: 0.105000\n",
      "lr 2.333333e-07 reg 4.447222e+07 train accuracy: 0.099898 val accuracy: 0.105000\n",
      "lr 2.333333e-07 reg 5.557778e+07 train accuracy: 0.099898 val accuracy: 0.105000\n",
      "lr 2.333333e-07 reg 6.668333e+07 train accuracy: 0.099898 val accuracy: 0.105000\n",
      "lr 2.333333e-07 reg 7.778889e+07 train accuracy: 0.099898 val accuracy: 0.105000\n",
      "lr 2.333333e-07 reg 8.889444e+07 train accuracy: 0.099898 val accuracy: 0.105000\n",
      "lr 2.333333e-07 reg 1.000000e+08 train accuracy: 0.099898 val accuracy: 0.105000\n",
      "lr 2.777778e-07 reg 5.000000e+04 train accuracy: 0.325776 val accuracy: 0.339000\n",
      "lr 2.777778e-07 reg 1.115556e+07 train accuracy: 0.099898 val accuracy: 0.105000\n",
      "lr 2.777778e-07 reg 2.226111e+07 train accuracy: 0.099898 val accuracy: 0.105000\n",
      "lr 2.777778e-07 reg 3.336667e+07 train accuracy: 0.099898 val accuracy: 0.105000\n",
      "lr 2.777778e-07 reg 4.447222e+07 train accuracy: 0.099898 val accuracy: 0.105000\n",
      "lr 2.777778e-07 reg 5.557778e+07 train accuracy: 0.099898 val accuracy: 0.105000\n",
      "lr 2.777778e-07 reg 6.668333e+07 train accuracy: 0.099898 val accuracy: 0.105000\n",
      "lr 2.777778e-07 reg 7.778889e+07 train accuracy: 0.099898 val accuracy: 0.105000\n",
      "lr 2.777778e-07 reg 8.889444e+07 train accuracy: 0.099898 val accuracy: 0.105000\n",
      "lr 2.777778e-07 reg 1.000000e+08 train accuracy: 0.099898 val accuracy: 0.105000\n",
      "lr 3.222222e-07 reg 5.000000e+04 train accuracy: 0.321898 val accuracy: 0.328000\n",
      "lr 3.222222e-07 reg 1.115556e+07 train accuracy: 0.099898 val accuracy: 0.105000\n",
      "lr 3.222222e-07 reg 2.226111e+07 train accuracy: 0.099898 val accuracy: 0.105000\n",
      "lr 3.222222e-07 reg 3.336667e+07 train accuracy: 0.099898 val accuracy: 0.105000\n",
      "lr 3.222222e-07 reg 4.447222e+07 train accuracy: 0.099898 val accuracy: 0.105000\n",
      "lr 3.222222e-07 reg 5.557778e+07 train accuracy: 0.099898 val accuracy: 0.105000\n",
      "lr 3.222222e-07 reg 6.668333e+07 train accuracy: 0.099898 val accuracy: 0.105000\n",
      "lr 3.222222e-07 reg 7.778889e+07 train accuracy: 0.099898 val accuracy: 0.105000\n",
      "lr 3.222222e-07 reg 8.889444e+07 train accuracy: 0.099898 val accuracy: 0.105000\n",
      "lr 3.222222e-07 reg 1.000000e+08 train accuracy: 0.099898 val accuracy: 0.105000\n",
      "lr 3.666667e-07 reg 5.000000e+04 train accuracy: 0.319776 val accuracy: 0.337000\n",
      "lr 3.666667e-07 reg 1.115556e+07 train accuracy: 0.099898 val accuracy: 0.105000\n",
      "lr 3.666667e-07 reg 2.226111e+07 train accuracy: 0.099898 val accuracy: 0.105000\n",
      "lr 3.666667e-07 reg 3.336667e+07 train accuracy: 0.099898 val accuracy: 0.105000\n",
      "lr 3.666667e-07 reg 4.447222e+07 train accuracy: 0.099898 val accuracy: 0.105000\n",
      "lr 3.666667e-07 reg 5.557778e+07 train accuracy: 0.099898 val accuracy: 0.105000\n",
      "lr 3.666667e-07 reg 6.668333e+07 train accuracy: 0.099898 val accuracy: 0.105000\n",
      "lr 3.666667e-07 reg 7.778889e+07 train accuracy: 0.099898 val accuracy: 0.105000\n",
      "lr 3.666667e-07 reg 8.889444e+07 train accuracy: 0.099898 val accuracy: 0.105000\n",
      "lr 3.666667e-07 reg 1.000000e+08 train accuracy: 0.099898 val accuracy: 0.105000\n",
      "lr 4.111111e-07 reg 5.000000e+04 train accuracy: 0.331510 val accuracy: 0.346000\n",
      "lr 4.111111e-07 reg 1.115556e+07 train accuracy: 0.099898 val accuracy: 0.105000\n",
      "lr 4.111111e-07 reg 2.226111e+07 train accuracy: 0.099898 val accuracy: 0.105000\n",
      "lr 4.111111e-07 reg 3.336667e+07 train accuracy: 0.099898 val accuracy: 0.105000\n",
      "lr 4.111111e-07 reg 4.447222e+07 train accuracy: 0.099898 val accuracy: 0.105000\n",
      "lr 4.111111e-07 reg 5.557778e+07 train accuracy: 0.099898 val accuracy: 0.105000\n",
      "lr 4.111111e-07 reg 6.668333e+07 train accuracy: 0.099898 val accuracy: 0.105000\n",
      "lr 4.111111e-07 reg 7.778889e+07 train accuracy: 0.099898 val accuracy: 0.105000\n",
      "lr 4.111111e-07 reg 8.889444e+07 train accuracy: 0.099898 val accuracy: 0.105000\n",
      "lr 4.111111e-07 reg 1.000000e+08 train accuracy: 0.099898 val accuracy: 0.105000\n",
      "lr 4.555556e-07 reg 5.000000e+04 train accuracy: 0.327020 val accuracy: 0.343000\n",
      "lr 4.555556e-07 reg 1.115556e+07 train accuracy: 0.099898 val accuracy: 0.105000\n",
      "lr 4.555556e-07 reg 2.226111e+07 train accuracy: 0.099898 val accuracy: 0.105000\n",
      "lr 4.555556e-07 reg 3.336667e+07 train accuracy: 0.099898 val accuracy: 0.105000\n",
      "lr 4.555556e-07 reg 4.447222e+07 train accuracy: 0.099898 val accuracy: 0.105000\n",
      "lr 4.555556e-07 reg 5.557778e+07 train accuracy: 0.099898 val accuracy: 0.105000\n",
      "lr 4.555556e-07 reg 6.668333e+07 train accuracy: 0.099898 val accuracy: 0.105000\n",
      "lr 4.555556e-07 reg 7.778889e+07 train accuracy: 0.099898 val accuracy: 0.105000\n",
      "lr 4.555556e-07 reg 8.889444e+07 train accuracy: 0.099898 val accuracy: 0.105000\n",
      "lr 4.555556e-07 reg 1.000000e+08 train accuracy: 0.099898 val accuracy: 0.105000\n",
      "lr 5.000000e-07 reg 5.000000e+04 train accuracy: 0.327163 val accuracy: 0.347000\n",
      "lr 5.000000e-07 reg 1.115556e+07 train accuracy: 0.099898 val accuracy: 0.105000\n",
      "lr 5.000000e-07 reg 2.226111e+07 train accuracy: 0.099898 val accuracy: 0.105000\n",
      "lr 5.000000e-07 reg 3.336667e+07 train accuracy: 0.099898 val accuracy: 0.105000\n",
      "lr 5.000000e-07 reg 4.447222e+07 train accuracy: 0.099898 val accuracy: 0.105000\n",
      "lr 5.000000e-07 reg 5.557778e+07 train accuracy: 0.099898 val accuracy: 0.105000\n",
      "lr 5.000000e-07 reg 6.668333e+07 train accuracy: 0.099898 val accuracy: 0.105000\n",
      "lr 5.000000e-07 reg 7.778889e+07 train accuracy: 0.099898 val accuracy: 0.105000\n",
      "lr 5.000000e-07 reg 8.889444e+07 train accuracy: 0.099898 val accuracy: 0.105000\n",
      "lr 5.000000e-07 reg 1.000000e+08 train accuracy: 0.099898 val accuracy: 0.105000\n",
      "best validation accuracy achieved during cross-validation: 0.347000\n"
     ]
    }
   ],
   "source": [
    "# Use the validation set to tune hyperparameters (regularization strength and\n",
    "# learning rate). You should experiment with different ranges for the learning\n",
    "# rates and regularization strengths; if you are careful you should be able to\n",
    "# get a classification accuracy of over 0.35 on the validation set.\n",
    "from cs231n.classifiers import Softmax\n",
    "results = {}\n",
    "best_val = -1\n",
    "best_softmax = None\n",
    "learning_rates = [1e-7, 5e-7]\n",
    "regularization_strengths = [5e4, 1e8]\n",
    "\n",
    "################################################################################\n",
    "# TODO:                                                                        #\n",
    "# Use the validation set to set the learning rate and regularization strength. #\n",
    "# This should be identical to the validation that you did for the SVM; save    #\n",
    "# the best trained softmax classifer in best_softmax.                          #\n",
    "################################################################################\n",
    "for lr in np.linspace(learning_rates[0], learning_rates[1], 10):\n",
    "    for regu in np.linspace(regularization_strengths[0], regularization_strengths[1], 10):\n",
    "        softmax = Softmax()\n",
    "        softmax.train(X_train, y_train, learning_rate=lr, reg=regu,\n",
    "                  num_iters=1500, verbose=False)\n",
    "        y_train_pred = softmax.predict(X_train)\n",
    "        y_val_pred = softmax.predict(X_val)\n",
    "        train_acc = np.mean(y_train == y_train_pred)\n",
    "        acc = np.mean(y_val == y_val_pred)\n",
    "        results[(lr, regu)] = (train_acc, acc)\n",
    "        if(acc > best_val):\n",
    "            best_val = acc\n",
    "            best_softmax = softmax\n",
    "################################################################################\n",
    "#                              END OF YOUR CODE                                #\n",
    "################################################################################\n",
    "    \n",
    "# Print out results.\n",
    "for lr, reg in sorted(results):\n",
    "    train_accuracy, val_accuracy = results[(lr, reg)]\n",
    "    print 'lr %e reg %e train accuracy: %f val accuracy: %f' % (\n",
    "                lr, reg, train_accuracy, val_accuracy)\n",
    "    \n",
    "print 'best validation accuracy achieved during cross-validation: %f' % best_val"
   ]
  },
  {
   "cell_type": "code",
   "execution_count": 8,
   "metadata": {
    "collapsed": false
   },
   "outputs": [
    {
     "name": "stdout",
     "output_type": "stream",
     "text": [
      "softmax on raw pixels final test set accuracy: 0.346000\n"
     ]
    }
   ],
   "source": [
    "# evaluate on test set\n",
    "# Evaluate the best softmax on test set\n",
    "y_test_pred = best_softmax.predict(X_test)\n",
    "test_accuracy = np.mean(y_test == y_test_pred)\n",
    "print 'softmax on raw pixels final test set accuracy: %f' % (test_accuracy, )"
   ]
  },
  {
   "cell_type": "code",
   "execution_count": 9,
   "metadata": {
    "collapsed": false
   },
   "outputs": [
    {
     "data": {
      "image/png": "[encoded data removed]",
      "text/plain": [
       "<matplotlib.figure.Figure at 0xfd68588>"
      ]
     },
     "metadata": {},
     "output_type": "display_data"
    }
   ],
   "source": [
    "# Visualize the learned weights for each class\n",
    "w = best_softmax.W[:-1,:] # strip out the bias\n",
    "w = w.reshape(32, 32, 3, 10)\n",
    "\n",
    "w_min, w_max = np.min(w), np.max(w)\n",
    "\n",
    "classes = ['plane', 'car', 'bird', 'cat', 'deer', 'dog', 'frog', 'horse', 'ship', 'truck']\n",
    "for i in xrange(10):\n",
    "  plt.subplot(2, 5, i + 1)\n",
    "  \n",
    "  # Rescale the weights to be between 0 and 255\n",
    "  wimg = 255.0 * (w[:, :, :, i].squeeze() - w_min) / (w_max - w_min)\n",
    "  plt.imshow(wimg.astype('uint8'))\n",
    "  plt.axis('off')\n",
    "  plt.title(classes[i])"
   ]
  }
 ],
 "metadata": {
  "kernelspec": {
   "display_name": "Python 2",
   "language": "python",
   "name": "python2"
  },
  "language_info": {
   "codemirror_mode": {
    "name": "ipython",
    "version": 2
   },
   "file_extension": ".py",
   "mimetype": "text/x-python",
   "name": "python",
   "nbconvert_exporter": "python",
   "pygments_lexer": "ipython2",
   "version": "2.7.11"
  }
 },
 "nbformat": 4,
 "nbformat_minor": 0
}
